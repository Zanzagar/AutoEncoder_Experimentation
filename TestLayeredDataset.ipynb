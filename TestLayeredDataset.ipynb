{
 "cells": [
  {
   "cell_type": "code",
   "execution_count": 1,
   "id": "400721c2",
   "metadata": {},
   "outputs": [
    {
     "name": "stdout",
     "output_type": "stream",
     "text": [
      "Testing layered_geological dataset type...\n"
     ]
    },
    {
     "name": "stderr",
     "output_type": "stream",
     "text": [
      "Generating consistent_layers: 100%|██████████| 3/3 [00:00<00:00, 286.03it/s]\n",
      "Generating variable_layers: 100%|██████████| 3/3 [00:00<00:00, 750.46it/s]"
     ]
    },
    {
     "name": "stdout",
     "output_type": "stream",
     "text": [
      "Success! Generated dataset with keys: ['filenames', 'labels', 'label_names', 'params']\n",
      "Number of files: 6\n",
      "Classes: ['consistent_layers', 'variable_layers']\n",
      "Parameters: {'image_size': 32, 'num_samples_per_class': 3}\n"
     ]
    },
    {
     "name": "stderr",
     "output_type": "stream",
     "text": [
      "\n"
     ]
    }
   ],
   "source": [
    "# Simple test of layered_geological dataset type\n",
    "from autoencoder_lib.data import generate_dataset\n",
    "\n",
    "print(\"Testing layered_geological dataset type...\")\n",
    "\n",
    "# Generate a small test dataset\n",
    "result = generate_dataset(\n",
    "    dataset_type=\"layered_geological\",\n",
    "    output_dir=\"simple_test\",\n",
    "    num_samples_per_class=3,\n",
    "    image_size=32,\n",
    "    visualize=False,\n",
    "    force_regenerate=True\n",
    ")\n",
    "\n",
    "print(f\"Success! Generated dataset with keys: {list(result.keys())}\")\n",
    "print(f\"Number of files: {len(result['filenames'])}\")\n",
    "print(f\"Classes: {result['label_names']}\")\n",
    "print(f\"Parameters: {result['params']}\")"
   ]
  },
  {
   "cell_type": "code",
   "execution_count": null,
   "id": "7bd7d2e9",
   "metadata": {},
   "outputs": [],
   "source": []
  }
 ],
 "metadata": {
  "kernelspec": {
   "display_name": "venv",
   "language": "python",
   "name": "python3"
  },
  "language_info": {
   "codemirror_mode": {
    "name": "ipython",
    "version": 3
   },
   "file_extension": ".py",
   "mimetype": "text/x-python",
   "name": "python",
   "nbconvert_exporter": "python",
   "pygments_lexer": "ipython3",
   "version": "3.9.21"
  }
 },
 "nbformat": 4,
 "nbformat_minor": 5
}
